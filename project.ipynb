{
 "cells": [
  {
   "cell_type": "code",
   "execution_count": 16,
   "metadata": {},
   "outputs": [
    {
     "name": "stdout",
     "output_type": "stream",
     "text": [
      "Index(['X', 'Y', 'OBJECTID', 'DOCUMENT_NBR', 'CRASH_YEAR', 'CRASH_DT',\n",
      "       'CRASH_MILITARY_TM', 'CRASH_SEVERITY', 'K_PEOPLE', 'A_PEOPLE',\n",
      "       'B_PEOPLE', 'C_PEOPLE', 'PERSONS_INJURED', 'PEDESTRIANS_KILLED',\n",
      "       'PEDESTRIANS_INJURED', 'VEH_COUNT', 'COLLISION_TYPE',\n",
      "       'WEATHER_CONDITION', 'LIGHT_CONDITION', 'ROADWAY_SURFACE_COND',\n",
      "       'RELATION_TO_ROADWAY', 'ROADWAY_ALIGNMENT', 'ROADWAY_SURFACE_TYPE',\n",
      "       'ROADWAY_DEFECT', 'ROADWAY_DESCRIPTION', 'INTERSECTION_TYPE',\n",
      "       'TRAFFIC_CONTROL_TYPE', 'TRFC_CTRL_STATUS_TYPE', 'WORK_ZONE_RELATED',\n",
      "       'WORK_ZONE_LOCATION', 'WORK_ZONE_TYPE', 'SCHOOL_ZONE',\n",
      "       'FIRST_HARMFUL_EVENT', 'FIRST_HARMFUL_EVENT_LOC', 'ALCOHOL_NOTALCOHOL',\n",
      "       'ANIMAL', 'BELTED_UNBELTED', 'BIKE_NONBIKE', 'DISTRACTED_NOTDISTRACTED',\n",
      "       'DROWSY_NOTDROWSY', 'DRUG_NODRUG', 'GR_NOGR', 'HITRUN_NOT_HITRUN',\n",
      "       'LGTRUCK_NONLGTRUCK', 'MOTOR_NONMOTOR', 'PED_NONPED', 'SPEED_NOTSPEED',\n",
      "       'SPEED_DIFF_MAX', 'RD_TYPE', 'INTERSECTION_ANALYSIS',\n",
      "       'SENIOR_NOTSENIOR', 'YOUNG_NOTYOUNG', 'MAINLINE_YN', 'NIGHT',\n",
      "       'VDOT_DISTRICT', 'JURIS_CODE', 'PHYSICAL_JURIS', 'FUN', 'FAC',\n",
      "       'AREA_TYPE', 'SYSTEM', 'VSP', 'OWNERSHIP', 'PLAN_DISTRICT', 'MPO_NAME',\n",
      "       'RTE_NM', 'RNS_MP', 'NODE', 'OFFSET'],\n",
      "      dtype='object')\n"
     ]
    }
   ],
   "source": [
    "\n",
    "import pandas as pd\n",
    "import numpy as np\n",
    "import os\n",
    "\n",
    "\n",
    "raw_data = pd.read_csv('data/Crash_Data.csv')\n",
    "\n",
    "#print(data.describe())\n",
    "print(raw_data.columns)\n",
    "\n"
   ]
  },
  {
   "cell_type": "code",
   "execution_count": 17,
   "metadata": {},
   "outputs": [],
   "source": [
    "columns_list = [\n",
    "    'RNS_MP', \n",
    "    'PLAN_DISTRICT', \n",
    "    'MPO_NAME', \n",
    "    'NODE', \n",
    "    'OFFSET', \n",
    "    'VSP', \n",
    "    'JURIS_CODE', \n",
    "    'NIGHT', \n",
    "    'RD_TYPE',\n",
    "    'DOCUMENT_NBR', \n",
    "    'OBJECTID', \n",
    "    'CRASH_YEAR'\n",
    "]\n",
    "data = raw_data.drop(columns=columns_list)\n",
    "data['month'] = pd.to_datetime(data['CRASH_DT']).dt.strftime('%B')\n",
    "data = data.drop(columns=['CRASH_DT'])"
   ]
  },
  {
   "cell_type": "code",
   "execution_count": 24,
   "metadata": {},
   "outputs": [],
   "source": [
    "from sklearn.pipeline import Pipeline\n",
    "from sklearn.preprocessing import StandardScaler\n",
    "from sklearn.impute import SimpleImputer\n",
    "from sklearn.compose import ColumnTransformer\n",
    "from sklearn.preprocessing import OneHotEncoder\n",
    "numerical_columns = data.select_dtypes(include=[np.number]).columns\n",
    "categorical_columns = data.select_dtypes(include=['object']).columns\n",
    "\n",
    "num_pipeline = Pipeline([\n",
    "        ('imputer', SimpleImputer(strategy=\"median\")),\n",
    "        ('std_scaler', StandardScaler()),\n",
    "    ])\n",
    "\n",
    "full_pipeline = ColumnTransformer([\n",
    "        (\"num\", num_pipeline, numerical_columns),\n",
    "        (\"cat\", OneHotEncoder(handle_unknown='ignore'), categorical_columns),\n",
    "    ])\n",
    "\n",
    "data_prepared = full_pipeline.fit_transform(data)"
   ]
  },
  {
   "cell_type": "code",
   "execution_count": null,
   "metadata": {},
   "outputs": [],
   "source": [
    "from sklearn.cluster import KMeans\n",
    "\n",
    "kmeans = KMeans(n_clusters=4, random_state=42).fit(data_prepared)\n",
    "\n",
    "\n"
   ]
  }
 ],
 "metadata": {
  "kernelspec": {
   "display_name": "venv",
   "language": "python",
   "name": "python3"
  },
  "language_info": {
   "codemirror_mode": {
    "name": "ipython",
    "version": 3
   },
   "file_extension": ".py",
   "mimetype": "text/x-python",
   "name": "python",
   "nbconvert_exporter": "python",
   "pygments_lexer": "ipython3",
   "version": "3.11.9"
  }
 },
 "nbformat": 4,
 "nbformat_minor": 2
}
